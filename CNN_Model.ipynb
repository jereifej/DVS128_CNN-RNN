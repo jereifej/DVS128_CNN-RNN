{
 "cells": [
  {
   "cell_type": "code",
   "execution_count": 1,
   "outputs": [],
   "source": [
    "import keras.models\n",
    "import tensorflow as tf\n",
    "import numpy as np\n",
    "import cv2\n",
    "import matplotlib.pyplot as plt\n",
    "from keras.models import Sequential\n",
    "from keras.layers import Dense, Conv2D, Dropout, Flatten, MaxPooling2D, Activation, GaussianNoise\n",
    "import os\n",
    "from skimage.util import random_noise"
   ],
   "metadata": {
    "collapsed": false
   }
  },
  {
   "cell_type": "code",
   "execution_count": 15,
   "outputs": [
    {
     "name": "stdout",
     "output_type": "stream",
     "text": [
      "(1112, 54, 96)\n",
      "(257, 54, 96)\n"
     ]
    }
   ],
   "source": [
    "# Key:\n",
    "# 0 - Down\n",
    "# 1 - Up\n",
    "# 2 - Wave\n",
    "\n",
    "small_to_large_image_size_ratio = 0.05\n",
    "\n",
    "X_train = []\n",
    "X_test = []\n",
    "Y_train = []\n",
    "Y_test = []\n",
    "\n",
    "source_directory = \"dataset/thumbsdown/KeyFrames/train\"\n",
    "for filename in os.listdir(source_directory):\n",
    "    image = cv2.imread(source_directory + \"/\" + filename)\n",
    "    image = cv2.cvtColor(image, cv2.COLOR_BGR2GRAY)\n",
    "\n",
    "\n",
    "    image = cv2.resize(image,  # original image\n",
    "                           (0, 0),  # set fx and fy, not the final size\n",
    "                           fx=small_to_large_image_size_ratio,\n",
    "                           fy=small_to_large_image_size_ratio,\n",
    "                           interpolation=cv2.INTER_NEAREST)\n",
    "    # image = random_noise(image, mode='s&p', amount=0.011)\n",
    "\n",
    "    X_train.append(image)\n",
    "    Y_train.append(0)\n",
    "\n",
    "source_directory = \"dataset/thumbsup/KeyFrames/train\"\n",
    "for filename in os.listdir(source_directory):\n",
    "    image = cv2.imread(source_directory + \"/\" + filename)\n",
    "    image = cv2.cvtColor(image, cv2.COLOR_BGR2GRAY)\n",
    "\n",
    "    image = cv2.resize(image,  # original image\n",
    "                           (0, 0),  # set fx and fy, not the final size\n",
    "                           fx=small_to_large_image_size_ratio,\n",
    "                           fy=small_to_large_image_size_ratio,\n",
    "                           interpolation=cv2.INTER_NEAREST)\n",
    "    # image = random_noise(image, mode='s&p', amount=0.011)\n",
    "\n",
    "    X_train.append(image)\n",
    "    Y_train.append(1)\n",
    "\n",
    "source_directory = \"dataset/wave/KeyFrames/train\"\n",
    "for filename in os.listdir(source_directory):\n",
    "    image = cv2.imread(source_directory + \"/\" + filename)\n",
    "    image = cv2.cvtColor(image, cv2.COLOR_BGR2GRAY)\n",
    "\n",
    "    image = cv2.resize(image,  # original image\n",
    "                           (0, 0),  # set fx and fy, not the final size\n",
    "                           fx=small_to_large_image_size_ratio,\n",
    "                           fy=small_to_large_image_size_ratio,\n",
    "                           interpolation=cv2.INTER_NEAREST)\n",
    "    # image = random_noise(image, mode='s&p', amount=0.011)\n",
    "\n",
    "    X_train.append(image)\n",
    "    Y_train.append(2)\n",
    "\n",
    "source_directory = \"dataset/thumbsdown/KeyFrames/test\"\n",
    "for filename in os.listdir(source_directory):\n",
    "    image = cv2.imread(source_directory + \"/\" + filename)\n",
    "    image = cv2.cvtColor(image, cv2.COLOR_BGR2GRAY)\n",
    "\n",
    "    image = cv2.resize(image,  # original image\n",
    "                           (0, 0),  # set fx and fy, not the final size\n",
    "                           fx=small_to_large_image_size_ratio,\n",
    "                           fy=small_to_large_image_size_ratio,\n",
    "                           interpolation=cv2.INTER_NEAREST)\n",
    "    # image = random_noise(image, mode='s&p', amount=0.011)\n",
    "\n",
    "    X_test.append(image)\n",
    "    Y_test.append(0)\n",
    "\n",
    "source_directory = \"dataset/thumbsup/KeyFrames/test\"\n",
    "for filename in os.listdir(source_directory):\n",
    "    image = cv2.imread(source_directory + \"/\" + filename)\n",
    "    image = cv2.cvtColor(image, cv2.COLOR_BGR2GRAY)\n",
    "\n",
    "    image = cv2.resize(image,  # original image\n",
    "                           (0, 0),  # set fx and fy, not the final size\n",
    "                           fx=small_to_large_image_size_ratio,\n",
    "                           fy=small_to_large_image_size_ratio,\n",
    "                           interpolation=cv2.INTER_NEAREST)\n",
    "    # image = random_noise(image, mode='s&p', amount=0.011)\n",
    "\n",
    "    X_test.append(image)\n",
    "    Y_test.append(1)\n",
    "\n",
    "source_directory = \"dataset/wave/KeyFrames/test\"\n",
    "for filename in os.listdir(source_directory):\n",
    "    image = cv2.imread(source_directory + \"/\" + filename)\n",
    "    image = cv2.cvtColor(image, cv2.COLOR_BGR2GRAY)\n",
    "\n",
    "    image = cv2.resize(image,  # original image\n",
    "                           (0, 0),  # set fx and fy, not the final size\n",
    "                           fx=small_to_large_image_size_ratio,\n",
    "                           fy=small_to_large_image_size_ratio,\n",
    "                           interpolation=cv2.INTER_NEAREST)\n",
    "    # image = random_noise(image, mode='s&p', amount=0.011)\n",
    "    X_test.append(image)\n",
    "    Y_test.append(2)\n",
    "\n",
    "\n",
    "print(np.shape(X_train))    # 1112, 108, 192\n",
    "print(np.shape(X_test))     # 257, 108, 192"
   ],
   "metadata": {
    "collapsed": false
   }
  },
  {
   "cell_type": "code",
   "execution_count": 29,
   "outputs": [
    {
     "data": {
      "text/plain": "<matplotlib.image.AxesImage at 0x2871f7a6750>"
     },
     "execution_count": 29,
     "metadata": {},
     "output_type": "execute_result"
    },
    {
     "data": {
      "text/plain": "<Figure size 640x480 with 1 Axes>",
      "image/png": "[encoded data removed]"
     },
     "metadata": {},
     "output_type": "display_data"
    }
   ],
   "source": [
    "train_size = np.shape(X_train)\n",
    "imheight = train_size[1]\n",
    "imwidth = train_size[2]\n",
    "train_size = train_size[0]\n",
    "test_size = np.shape(X_test)[0]\n",
    "\n",
    "X_train = np.array(X_train)\n",
    "X_test = np.array(X_test)\n",
    "Y_train = np.array(Y_train)\n",
    "Y_test = np.array(Y_test)\n",
    "\n",
    "X_train = X_train.reshape(train_size, imheight, imwidth, 1)\n",
    "X_test = X_test.reshape(test_size, imheight, imwidth, 1)\n",
    "Y_train = Y_train.reshape(train_size)\n",
    "Y_test = Y_test.reshape(test_size)\n",
    "\n",
    "plt.imshow(X_train[100].reshape(imheight, imwidth),cmap='Greys')"
   ],
   "metadata": {
    "collapsed": false
   }
  },
  {
   "cell_type": "code",
   "execution_count": 35,
   "outputs": [
    {
     "name": "stdout",
     "output_type": "stream",
     "text": [
      "Model: \"sequential_6\"\n",
      "_________________________________________________________________\n",
      " Layer (type)                Output Shape              Param #   \n",
      "=================================================================\n",
      " gaussian_noise_6 (GaussianN  (None, 54, 96, 1)        0         \n",
      " oise)                                                           \n",
      "                                                                 \n",
      " conv2d_18 (Conv2D)          (None, 52, 94, 8)         80        \n",
      "                                                                 \n",
      " conv2d_19 (Conv2D)          (None, 48, 90, 4)         804       \n",
      "                                                                 \n",
      " conv2d_20 (Conv2D)          (None, 42, 84, 2)         394       \n",
      "                                                                 \n",
      " dropout_6 (Dropout)         (None, 42, 84, 2)         0         \n",
      "                                                                 \n",
      " flatten_6 (Flatten)         (None, 7056)              0         \n",
      "                                                                 \n",
      " dense_6 (Dense)             (None, 3)                 21171     \n",
      "                                                                 \n",
      "=================================================================\n",
      "Total params: 22,449\n",
      "Trainable params: 22,449\n",
      "Non-trainable params: 0\n",
      "_________________________________________________________________\n"
     ]
    }
   ],
   "source": [
    "model = Sequential()\n",
    "\n",
    "# add model layers\n",
    "model.add(GaussianNoise(0.01, input_shape=(imheight, imwidth, 1)))\n",
    "model.add(Conv2D(8, kernel_size=3, activation='relu', input_shape=(imheight, imwidth, 1)))\n",
    "model.add(Conv2D(4, kernel_size=5, activation='relu'))\n",
    "model.add(Conv2D(2, kernel_size=7, activation='relu'))\n",
    "model.add(Dropout(0.05))\n",
    "model.add(Flatten())\n",
    "model.add(Dense(3, activation='softmax'))\n",
    "model.summary()\n",
    "model.compile(optimizer='adam',\n",
    "              loss='sparse_categorical_crossentropy',\n",
    "              metrics=['accuracy'])"
   ],
   "metadata": {
    "collapsed": false
   }
  },
  {
   "cell_type": "code",
   "execution_count": 36,
   "outputs": [
    {
     "name": "stdout",
     "output_type": "stream",
     "text": [
      "Epoch 1/10\n",
      "35/35 [==============================] - 5s 113ms/step - loss: 1.0839 - accuracy: 0.4487\n",
      "Epoch 2/10\n",
      "35/35 [==============================] - 4s 112ms/step - loss: 0.4118 - accuracy: 0.8471\n",
      "Epoch 3/10\n",
      "35/35 [==============================] - 4s 112ms/step - loss: 0.0809 - accuracy: 0.9775\n",
      "Epoch 4/10\n",
      "35/35 [==============================] - 4s 110ms/step - loss: 0.0122 - accuracy: 0.9973\n",
      "Epoch 5/10\n",
      "35/35 [==============================] - 4s 112ms/step - loss: 0.0022 - accuracy: 1.0000\n",
      "Epoch 6/10\n",
      "35/35 [==============================] - 4s 113ms/step - loss: 0.0016 - accuracy: 1.0000\n",
      "Epoch 7/10\n",
      "35/35 [==============================] - 4s 110ms/step - loss: 8.4867e-04 - accuracy: 1.0000\n",
      "Epoch 8/10\n",
      "35/35 [==============================] - 4s 110ms/step - loss: 4.1497e-04 - accuracy: 1.0000\n",
      "Epoch 9/10\n",
      "35/35 [==============================] - 4s 110ms/step - loss: 2.4013e-04 - accuracy: 1.0000\n",
      "Epoch 10/10\n",
      "35/35 [==============================] - 4s 111ms/step - loss: 1.9549e-04 - accuracy: 1.0000\n"
     ]
    }
   ],
   "source": [
    "n_epochs = 10\n",
    "history = model.fit(x=X_train,y=Y_train, epochs=n_epochs)"
   ],
   "metadata": {
    "collapsed": false
   }
  },
  {
   "cell_type": "code",
   "execution_count": 37,
   "outputs": [
    {
     "name": "stdout",
     "output_type": "stream",
     "text": [
      "9/9 [==============================] - 0s 28ms/step - loss: 0.4470 - accuracy: 0.9066\n",
      "Test accuracy: 0.9066147804260254\n"
     ]
    }
   ],
   "source": [
    "score = model.evaluate(X_test, Y_test)\n",
    "print('Test accuracy:', score[1])"
   ],
   "metadata": {
    "collapsed": false
   }
  },
  {
   "cell_type": "code",
   "execution_count": 20,
   "outputs": [
    {
     "name": "stderr",
     "output_type": "stream",
     "text": [
      "WARNING:absl:Found untraced functions such as _jit_compiled_convolution_op, _jit_compiled_convolution_op, _jit_compiled_convolution_op, _update_step_xla while saving (showing 4 of 4). These functions will not be directly callable after loading.\n"
     ]
    },
    {
     "name": "stdout",
     "output_type": "stream",
     "text": [
      "INFO:tensorflow:Assets written to: CNN_model\\assets\n"
     ]
    },
    {
     "name": "stderr",
     "output_type": "stream",
     "text": [
      "INFO:tensorflow:Assets written to: CNN_model\\assets\n"
     ]
    }
   ],
   "source": [
    "model.save(\"CNN_model\")"
   ],
   "metadata": {
    "collapsed": false
   }
  },
  {
   "cell_type": "code",
   "execution_count": 38,
   "outputs": [
    {
     "name": "stdout",
     "output_type": "stream",
     "text": [
      "9/9 [==============================] - 0s 27ms/step - loss: 0.3172 - accuracy: 0.9105\n",
      "Test accuracy: 0.9105058312416077\n"
     ]
    }
   ],
   "source": [
    "saved_model = keras.models.load_model(\"CNN_model\")\n",
    "score = saved_model.evaluate(X_test, Y_test)\n",
    "print('Test accuracy:', score[1])"
   ],
   "metadata": {
    "collapsed": false
   }
  },
  {
   "cell_type": "code",
   "execution_count": null,
   "outputs": [],
   "source": [],
   "metadata": {
    "collapsed": false
   }
  }
 ],
 "metadata": {
  "kernelspec": {
   "display_name": "Python 3",
   "language": "python",
   "name": "python3"
  },
  "language_info": {
   "codemirror_mode": {
    "name": "ipython",
    "version": 2
   },
   "file_extension": ".py",
   "mimetype": "text/x-python",
   "name": "python",
   "nbconvert_exporter": "python",
   "pygments_lexer": "ipython2",
   "version": "2.7.6"
  }
 },
 "nbformat": 4,
 "nbformat_minor": 0
}
