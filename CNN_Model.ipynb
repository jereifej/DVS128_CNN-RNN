{
 "cells": [
  {
   "cell_type": "code",
   "execution_count": 83,
   "outputs": [],
   "source": [
    "import numpy as np\n",
    "import tensorflow as tf\n",
    "import cv2\n",
    "import matplotlib.pyplot as plt\n",
    "import keras.models\n",
    "from keras.models import Sequential\n",
    "from keras.layers import Dense, Conv2D, Dropout, Flatten\n",
    "from keras import metrics\n",
    "from keras.utils.vis_utils import plot_model\n",
    "import os"
   ],
   "metadata": {
    "collapsed": false
   }
  },
  {
   "cell_type": "code",
   "execution_count": 2,
   "outputs": [
    {
     "name": "stdout",
     "output_type": "stream",
     "text": [
      "(1855, 54, 96)\n",
      "(219, 54, 96)\n"
     ]
    }
   ],
   "source": [
    "# Key:\n",
    "# 0 - Down\n",
    "# 1 - Up\n",
    "# 2 - Wave\n",
    "\n",
    "small_to_large_image_size_ratio = 0.05\n",
    "\n",
    "X_train = []\n",
    "X_test = []\n",
    "Y_train = []\n",
    "Y_test = []\n",
    "\n",
    "source_directory = \"dataset/thumbsdown/KeyFrames/train\"\n",
    "for filename in os.listdir(source_directory):\n",
    "    image = cv2.imread(source_directory + \"/\" + filename)\n",
    "    image = cv2.cvtColor(image, cv2.COLOR_BGR2GRAY)\n",
    "\n",
    "\n",
    "    image = cv2.resize(image,  # original image\n",
    "                           (0, 0),  # set fx and fy, not the final size\n",
    "                           fx=small_to_large_image_size_ratio,\n",
    "                           fy=small_to_large_image_size_ratio,\n",
    "                           interpolation=cv2.INTER_NEAREST)\n",
    "    # image = random_noise(image, mode='s&p', amount=0.011)\n",
    "\n",
    "    X_train.append(image)\n",
    "    Y_train.append(0)\n",
    "\n",
    "source_directory = \"dataset/thumbsup/KeyFrames/train\"\n",
    "for filename in os.listdir(source_directory):\n",
    "    image = cv2.imread(source_directory + \"/\" + filename)\n",
    "    image = cv2.cvtColor(image, cv2.COLOR_BGR2GRAY)\n",
    "\n",
    "    image = cv2.resize(image,  # original image\n",
    "                           (0, 0),  # set fx and fy, not the final size\n",
    "                           fx=small_to_large_image_size_ratio,\n",
    "                           fy=small_to_large_image_size_ratio,\n",
    "                           interpolation=cv2.INTER_NEAREST)\n",
    "    # image = random_noise(image, mode='s&p', amount=0.011)\n",
    "\n",
    "    X_train.append(image)\n",
    "    Y_train.append(1)\n",
    "\n",
    "source_directory = \"dataset/wave/KeyFrames/train\"\n",
    "for filename in os.listdir(source_directory):\n",
    "    image = cv2.imread(source_directory + \"/\" + filename)\n",
    "    image = cv2.cvtColor(image, cv2.COLOR_BGR2GRAY)\n",
    "\n",
    "    image = cv2.resize(image,  # original image\n",
    "                           (0, 0),  # set fx and fy, not the final size\n",
    "                           fx=small_to_large_image_size_ratio,\n",
    "                           fy=small_to_large_image_size_ratio,\n",
    "                           interpolation=cv2.INTER_NEAREST)\n",
    "    # image = random_noise(image, mode='s&p', amount=0.011)\n",
    "\n",
    "    X_train.append(image)\n",
    "    Y_train.append(2)\n",
    "\n",
    "source_directory = \"dataset/thumbsdown/KeyFrames/test\"\n",
    "for filename in os.listdir(source_directory):\n",
    "    image = cv2.imread(source_directory + \"/\" + filename)\n",
    "    image = cv2.cvtColor(image, cv2.COLOR_BGR2GRAY)\n",
    "\n",
    "    image = cv2.resize(image,  # original image\n",
    "                           (0, 0),  # set fx and fy, not the final size\n",
    "                           fx=small_to_large_image_size_ratio,\n",
    "                           fy=small_to_large_image_size_ratio,\n",
    "                           interpolation=cv2.INTER_NEAREST)\n",
    "    # image = random_noise(image, mode='s&p', amount=0.011)\n",
    "\n",
    "    X_test.append(image)\n",
    "    Y_test.append(0)\n",
    "\n",
    "source_directory = \"dataset/thumbsup/KeyFrames/test\"\n",
    "for filename in os.listdir(source_directory):\n",
    "    image = cv2.imread(source_directory + \"/\" + filename)\n",
    "    image = cv2.cvtColor(image, cv2.COLOR_BGR2GRAY)\n",
    "\n",
    "    image = cv2.resize(image,  # original image\n",
    "                           (0, 0),  # set fx and fy, not the final size\n",
    "                           fx=small_to_large_image_size_ratio,\n",
    "                           fy=small_to_large_image_size_ratio,\n",
    "                           interpolation=cv2.INTER_NEAREST)\n",
    "    # image = random_noise(image, mode='s&p', amount=0.011)\n",
    "\n",
    "    X_test.append(image)\n",
    "    Y_test.append(1)\n",
    "\n",
    "source_directory = \"dataset/wave/KeyFrames/test\"\n",
    "for filename in os.listdir(source_directory):\n",
    "    image = cv2.imread(source_directory + \"/\" + filename)\n",
    "    image = cv2.cvtColor(image, cv2.COLOR_BGR2GRAY)\n",
    "\n",
    "    image = cv2.resize(image,  # original image\n",
    "                           (0, 0),  # set fx and fy, not the final size\n",
    "                           fx=small_to_large_image_size_ratio,\n",
    "                           fy=small_to_large_image_size_ratio,\n",
    "                           interpolation=cv2.INTER_NEAREST)\n",
    "    # image = random_noise(image, mode='s&p', amount=0.011)\n",
    "    X_test.append(image)\n",
    "    Y_test.append(2)\n",
    "\n",
    "\n",
    "print(np.shape(X_train))\n",
    "print(np.shape(X_test))"
   ],
   "metadata": {
    "collapsed": false
   }
  },
  {
   "cell_type": "code",
   "execution_count": 24,
   "outputs": [
    {
     "data": {
      "text/plain": "<matplotlib.image.AxesImage at 0x24678ae4ed0>"
     },
     "execution_count": 24,
     "metadata": {},
     "output_type": "execute_result"
    },
    {
     "data": {
      "text/plain": "<Figure size 640x480 with 1 Axes>",
      "image/png": "[encoded data removed]"
     },
     "metadata": {},
     "output_type": "display_data"
    }
   ],
   "source": [
    "train_size = np.shape(X_train)\n",
    "imheight = train_size[1]\n",
    "imwidth = train_size[2]\n",
    "train_size = train_size[0]\n",
    "test_size = np.shape(X_test)[0]\n",
    "\n",
    "X_train = np.array(X_train)\n",
    "X_test = np.array(X_test)\n",
    "Y_train = np.array(Y_train)\n",
    "Y_test = np.array(Y_test)\n",
    "\n",
    "X_train = X_train.reshape(train_size, imheight, imwidth, 1)\n",
    "X_test = X_test.reshape(test_size, imheight, imwidth, 1)\n",
    "Y_train = Y_train.reshape(train_size)\n",
    "Y_test = Y_test.reshape(test_size)\n",
    "\n",
    "plt.imshow(X_test[100].reshape(imheight, imwidth),cmap='Greys')"
   ],
   "metadata": {
    "collapsed": false
   }
  },
  {
   "cell_type": "code",
   "execution_count": 133,
   "outputs": [
    {
     "name": "stdout",
     "output_type": "stream",
     "text": [
      "Model: \"sequential_13\"\n",
      "_________________________________________________________________\n",
      " Layer (type)                Output Shape              Param #   \n",
      "=================================================================\n",
      " conv2d_36 (Conv2D)          (None, 48, 90, 8)         400       \n",
      "                                                                 \n",
      " conv2d_37 (Conv2D)          (None, 42, 84, 8)         3144      \n",
      "                                                                 \n",
      " conv2d_38 (Conv2D)          (None, 36, 78, 8)         3144      \n",
      "                                                                 \n",
      " dropout_12 (Dropout)        (None, 36, 78, 8)         0         \n",
      "                                                                 \n",
      " flatten_12 (Flatten)        (None, 22464)             0         \n",
      "                                                                 \n",
      " dense_12 (Dense)            (None, 3)                 67395     \n",
      "                                                                 \n",
      "=================================================================\n",
      "Total params: 74,083\n",
      "Trainable params: 74,083\n",
      "Non-trainable params: 0\n",
      "_________________________________________________________________\n"
     ]
    }
   ],
   "source": [
    "model = Sequential()\n",
    "\n",
    "# add model layers\n",
    "model.add(Conv2D(8, kernel_size=7, activation='relu', input_shape=(imheight, imwidth, 1)))\n",
    "model.add(Conv2D(8, kernel_size=7, activation='relu'))\n",
    "model.add(Conv2D(8, kernel_size=7, activation='relu'))\n",
    "model.add(Dropout(0.05))\n",
    "model.add(Flatten())\n",
    "model.add(Dense(3, activation='softmax'))\n",
    "model.summary()\n",
    "model.compile(optimizer='adam',\n",
    "              loss='sparse_categorical_crossentropy',\n",
    "              metrics=['accuracy'])"
   ],
   "metadata": {
    "collapsed": false
   }
  },
  {
   "cell_type": "code",
   "execution_count": 134,
   "outputs": [
    {
     "name": "stdout",
     "output_type": "stream",
     "text": [
      "Epoch 1/10\n",
      "58/58 [==============================] - 8s 114ms/step - loss: 1.1359 - accuracy: 0.7601\n",
      "Epoch 2/10\n",
      "58/58 [==============================] - 19s 337ms/step - loss: 0.0814 - accuracy: 0.9747\n",
      "Epoch 3/10\n",
      "58/58 [==============================] - 28s 495ms/step - loss: 0.0263 - accuracy: 0.9941\n",
      "Epoch 4/10\n",
      "58/58 [==============================] - 14s 228ms/step - loss: 0.0142 - accuracy: 0.9973\n",
      "Epoch 5/10\n",
      "58/58 [==============================] - 6s 111ms/step - loss: 0.0036 - accuracy: 0.9995\n",
      "Epoch 6/10\n",
      "58/58 [==============================] - 6s 110ms/step - loss: 0.0020 - accuracy: 0.9995\n",
      "Epoch 7/10\n",
      "58/58 [==============================] - 6s 110ms/step - loss: 0.0013 - accuracy: 1.0000\n",
      "Epoch 8/10\n",
      "58/58 [==============================] - 7s 113ms/step - loss: 0.0023 - accuracy: 1.0000\n",
      "Epoch 9/10\n",
      "58/58 [==============================] - 6s 111ms/step - loss: 8.8694e-04 - accuracy: 1.0000\n",
      "Epoch 10/10\n",
      "58/58 [==============================] - 7s 112ms/step - loss: 6.1695e-04 - accuracy: 1.0000\n"
     ]
    }
   ],
   "source": [
    "n_epochs = 10\n",
    "history = model.fit(x=X_train,y=Y_train, epochs=n_epochs)"
   ],
   "metadata": {
    "collapsed": false
   }
  },
  {
   "cell_type": "code",
   "execution_count": 135,
   "outputs": [
    {
     "name": "stdout",
     "output_type": "stream",
     "text": [
      "7/7 [==============================] - 0s 22ms/step - loss: 0.0405 - accuracy: 0.9863\n",
      "Test accuracy: 0.9863013625144958\n"
     ]
    }
   ],
   "source": [
    "score = model.evaluate(X_test, Y_test)\n",
    "print('Test accuracy:', score[1])"
   ],
   "metadata": {
    "collapsed": false
   }
  },
  {
   "cell_type": "code",
   "execution_count": 136,
   "outputs": [
    {
     "data": {
      "text/plain": "<Figure size 640x480 with 2 Axes>",
      "image/png": "[encoded data removed]"
     },
     "metadata": {},
     "output_type": "display_data"
    }
   ],
   "source": [
    "fig, ax = plt.subplots()\n",
    "ax.plot(history.history['accuracy'], color='b')\n",
    "ax2 = ax.twinx()\n",
    "ax2.plot(history.history['loss'], color='r')\n",
    "ax.set_ylabel('Loss')\n",
    "ax2.set_ylabel('Accuracy')\n",
    "ax.title.set_text('Training Metrics')\n",
    "ax.set_xlabel(\"Epochs\")\n",
    "# ax.legend(['accuracy', 'loss'], loc='upper right')\n",
    "plt.show()"
   ],
   "metadata": {
    "collapsed": false
   }
  },
  {
   "cell_type": "code",
   "execution_count": 138,
   "outputs": [
    {
     "name": "stderr",
     "output_type": "stream",
     "text": [
      "WARNING:absl:Found untraced functions such as _jit_compiled_convolution_op, _jit_compiled_convolution_op, _jit_compiled_convolution_op, _update_step_xla while saving (showing 4 of 4). These functions will not be directly callable after loading.\n"
     ]
    },
    {
     "name": "stdout",
     "output_type": "stream",
     "text": [
      "INFO:tensorflow:Assets written to: CNN_model\\assets\n"
     ]
    },
    {
     "name": "stderr",
     "output_type": "stream",
     "text": [
      "INFO:tensorflow:Assets written to: CNN_model\\assets\n"
     ]
    }
   ],
   "source": [
    "model.save(\"CNN_model\")"
   ],
   "metadata": {
    "collapsed": false
   }
  },
  {
   "cell_type": "code",
   "execution_count": 139,
   "outputs": [
    {
     "name": "stdout",
     "output_type": "stream",
     "text": [
      "7/7 [==============================] - 1s 28ms/step - loss: 0.0405 - accuracy: 0.9863\n",
      "Test accuracy: 0.9863013625144958\n"
     ]
    }
   ],
   "source": [
    "saved_model = keras.models.load_model(\"CNN_model\")\n",
    "score = saved_model.evaluate(X_test, Y_test)\n",
    "print('Test accuracy:', score[1])"
   ],
   "metadata": {
    "collapsed": false
   }
  },
  {
   "cell_type": "code",
   "execution_count": 137,
   "outputs": [
    {
     "name": "stdout",
     "output_type": "stream",
     "text": [
      "219\n",
      "[1.         1.         0.96842105]\n",
      "1855\n",
      "[1. 1. 1.]\n"
     ]
    }
   ],
   "source": [
    "\n",
    "def calc_Categorical_Accuracy(test, truth):\n",
    "    print(len(truth))\n",
    "    certainty = model.predict(test, verbose=0)\n",
    "    decision = np.argmax(certainty, axis=1)  # find index of max probability\n",
    "\n",
    "    categorical_accuracy = np.zeros(shape=(3,))\n",
    "    for i in range(len(decision)):\n",
    "      if decision[i] == truth[i]:\n",
    "          categorical_accuracy[truth[i]] = categorical_accuracy[truth[i]]+1\n",
    "\n",
    "    for i in range(3):\n",
    "        num_tests = truth.tolist().count(i)\n",
    "        categorical_accuracy[i] = categorical_accuracy[i]/num_tests\n",
    "    return categorical_accuracy\n",
    "\n",
    "acc = calc_Categorical_Accuracy(X_test, Y_test)\n",
    "print(acc)\n",
    "\n",
    "acc = calc_Categorical_Accuracy(X_train, Y_train)\n",
    "print(acc)"
   ],
   "metadata": {
    "collapsed": false
   }
  },
  {
   "cell_type": "code",
   "execution_count": null,
   "outputs": [],
   "source": [],
   "metadata": {
    "collapsed": false
   }
  }
 ],
 "metadata": {
  "kernelspec": {
   "display_name": "Python 3",
   "language": "python",
   "name": "python3"
  },
  "language_info": {
   "codemirror_mode": {
    "name": "ipython",
    "version": 2
   },
   "file_extension": ".py",
   "mimetype": "text/x-python",
   "name": "python",
   "nbconvert_exporter": "python",
   "pygments_lexer": "ipython2",
   "version": "2.7.6"
  }
 },
 "nbformat": 4,
 "nbformat_minor": 0
}
