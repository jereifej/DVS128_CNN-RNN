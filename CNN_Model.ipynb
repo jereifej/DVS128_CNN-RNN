{
 "cells": [
  {
   "cell_type": "code",
   "execution_count": 156,
   "outputs": [],
   "source": [
    "import numpy as np\n",
    "import tensorflow as tf\n",
    "import cv2\n",
    "import matplotlib.pyplot as plt\n",
    "import keras.models\n",
    "from keras.models import Sequential\n",
    "from keras.layers import Dense, Conv2D, Dropout, Flatten, GaussianNoise\n",
    "from keras import metrics\n",
    "from keras.utils.vis_utils import plot_model\n",
    "import os\n",
    "from skimage.util import random_noise"
   ],
   "metadata": {
    "collapsed": false
   }
  },
  {
   "cell_type": "code",
   "execution_count": 178,
   "outputs": [
    {
     "name": "stdout",
     "output_type": "stream",
     "text": [
      "(1855, 54, 96)\n",
      "(219, 54, 96)\n"
     ]
    }
   ],
   "source": [
    "# Key:\n",
    "# 0 - Down\n",
    "# 1 - Up\n",
    "# 2 - Wave\n",
    "\n",
    "small_to_large_image_size_ratio = 0.05\n",
    "\n",
    "X_train = []\n",
    "X_test = []\n",
    "Y_train = []\n",
    "Y_test = []\n",
    "\n",
    "source_directory = \"dataset/thumbsdown/KeyFrames/train\"\n",
    "for filename in os.listdir(source_directory):\n",
    "    image = cv2.imread(source_directory + \"/\" + filename)\n",
    "    image = cv2.cvtColor(image, cv2.COLOR_BGR2GRAY)\n",
    "\n",
    "\n",
    "    image = cv2.resize(image,  # original image\n",
    "                           (0, 0),  # set fx and fy, not the final size\n",
    "                           fx=small_to_large_image_size_ratio,\n",
    "                           fy=small_to_large_image_size_ratio,\n",
    "                           interpolation=cv2.INTER_NEAREST)\n",
    "    # image = random_noise(image, mode='s&p', amount=0.011)\n",
    "\n",
    "    X_train.append(image)\n",
    "    Y_train.append(0)\n",
    "\n",
    "source_directory = \"dataset/thumbsup/KeyFrames/train\"\n",
    "for filename in os.listdir(source_directory):\n",
    "    image = cv2.imread(source_directory + \"/\" + filename)\n",
    "    image = cv2.cvtColor(image, cv2.COLOR_BGR2GRAY)\n",
    "\n",
    "    image = cv2.resize(image,  # original image\n",
    "                           (0, 0),  # set fx and fy, not the final size\n",
    "                           fx=small_to_large_image_size_ratio,\n",
    "                           fy=small_to_large_image_size_ratio,\n",
    "                           interpolation=cv2.INTER_NEAREST)\n",
    "    # image = random_noise(image, mode='s&p', amount=0.011)\n",
    "\n",
    "    X_train.append(image)\n",
    "    Y_train.append(1)\n",
    "\n",
    "source_directory = \"dataset/wave/KeyFrames/train\"\n",
    "for filename in os.listdir(source_directory):\n",
    "    image = cv2.imread(source_directory + \"/\" + filename)\n",
    "    image = cv2.cvtColor(image, cv2.COLOR_BGR2GRAY)\n",
    "\n",
    "    image = cv2.resize(image,  # original image\n",
    "                           (0, 0),  # set fx and fy, not the final size\n",
    "                           fx=small_to_large_image_size_ratio,\n",
    "                           fy=small_to_large_image_size_ratio,\n",
    "                           interpolation=cv2.INTER_NEAREST)\n",
    "    # image = random_noise(image, mode='s&p', amount=0.011)\n",
    "\n",
    "    X_train.append(image)\n",
    "    Y_train.append(2)\n",
    "\n",
    "source_directory = \"dataset/thumbsdown/KeyFrames/test\"\n",
    "for filename in os.listdir(source_directory):\n",
    "    image = cv2.imread(source_directory + \"/\" + filename)\n",
    "    image = cv2.cvtColor(image, cv2.COLOR_BGR2GRAY)\n",
    "\n",
    "    image = cv2.resize(image,  # original image\n",
    "                           (0, 0),  # set fx and fy, not the final size\n",
    "                           fx=small_to_large_image_size_ratio,\n",
    "                           fy=small_to_large_image_size_ratio,\n",
    "                           interpolation=cv2.INTER_NEAREST)\n",
    "    # image = random_noise(image, mode='s&p', amount=0.011)\n",
    "\n",
    "    X_test.append(image)\n",
    "    Y_test.append(0)\n",
    "\n",
    "source_directory = \"dataset/thumbsup/KeyFrames/test\"\n",
    "for filename in os.listdir(source_directory):\n",
    "    image = cv2.imread(source_directory + \"/\" + filename)\n",
    "    image = cv2.cvtColor(image, cv2.COLOR_BGR2GRAY)\n",
    "\n",
    "    image = cv2.resize(image,  # original image\n",
    "                           (0, 0),  # set fx and fy, not the final size\n",
    "                           fx=small_to_large_image_size_ratio,\n",
    "                           fy=small_to_large_image_size_ratio,\n",
    "                           interpolation=cv2.INTER_NEAREST)\n",
    "    # image = random_noise(image, mode='s&p', amount=0.011)\n",
    "\n",
    "    X_test.append(image)\n",
    "    Y_test.append(1)\n",
    "\n",
    "source_directory = \"dataset/wave/KeyFrames/test\"\n",
    "for filename in os.listdir(source_directory):\n",
    "    image = cv2.imread(source_directory + \"/\" + filename)\n",
    "    image = cv2.cvtColor(image, cv2.COLOR_BGR2GRAY)\n",
    "\n",
    "    image = cv2.resize(image,  # original image\n",
    "                           (0, 0),  # set fx and fy, not the final size\n",
    "                           fx=small_to_large_image_size_ratio,\n",
    "                           fy=small_to_large_image_size_ratio,\n",
    "                           interpolation=cv2.INTER_NEAREST)\n",
    "    # image = random_noise(image, mode='s&p', amount=0.011)\n",
    "    X_test.append(image)\n",
    "    Y_test.append(2)\n",
    "\n",
    "\n",
    "print(np.shape(X_train))\n",
    "print(np.shape(X_test))"
   ],
   "metadata": {
    "collapsed": false
   }
  },
  {
   "cell_type": "code",
   "execution_count": 179,
   "outputs": [
    {
     "data": {
      "text/plain": "<matplotlib.image.AxesImage at 0x2460e9cced0>"
     },
     "execution_count": 179,
     "metadata": {},
     "output_type": "execute_result"
    },
    {
     "data": {
      "text/plain": "<Figure size 640x480 with 1 Axes>",
      "image/png": "[encoded data removed]"
     },
     "metadata": {},
     "output_type": "display_data"
    }
   ],
   "source": [
    "train_size = np.shape(X_train)\n",
    "imheight = train_size[1]\n",
    "imwidth = train_size[2]\n",
    "train_size = train_size[0]\n",
    "test_size = np.shape(X_test)[0]\n",
    "\n",
    "X_train = np.array(X_train)\n",
    "X_test = np.array(X_test)\n",
    "Y_train = np.array(Y_train)\n",
    "Y_test = np.array(Y_test)\n",
    "\n",
    "X_train = X_train.reshape(train_size, imheight, imwidth, 1)\n",
    "X_test = X_test.reshape(test_size, imheight, imwidth, 1)\n",
    "Y_train = Y_train.reshape(train_size)\n",
    "Y_test = Y_test.reshape(test_size)\n",
    "\n",
    "plt.imshow(X_test[100].reshape(imheight, imwidth),cmap='Greys')"
   ],
   "metadata": {
    "collapsed": false
   }
  },
  {
   "cell_type": "code",
   "execution_count": 184,
   "outputs": [
    {
     "name": "stdout",
     "output_type": "stream",
     "text": [
      "Model: \"sequential_27\"\n",
      "_________________________________________________________________\n",
      " Layer (type)                Output Shape              Param #   \n",
      "=================================================================\n",
      " gaussian_noise_9 (GaussianN  (None, 54, 96, 1)        0         \n",
      " oise)                                                           \n",
      "                                                                 \n",
      " conv2d_69 (Conv2D)          (None, 52, 94, 8)         80        \n",
      "                                                                 \n",
      " conv2d_70 (Conv2D)          (None, 48, 90, 4)         804       \n",
      "                                                                 \n",
      " conv2d_71 (Conv2D)          (None, 42, 84, 2)         394       \n",
      "                                                                 \n",
      " dropout_23 (Dropout)        (None, 42, 84, 2)         0         \n",
      "                                                                 \n",
      " flatten_23 (Flatten)        (None, 7056)              0         \n",
      "                                                                 \n",
      " dense_23 (Dense)            (None, 3)                 21171     \n",
      "                                                                 \n",
      "=================================================================\n",
      "Total params: 22,449\n",
      "Trainable params: 22,449\n",
      "Non-trainable params: 0\n",
      "_________________________________________________________________\n"
     ]
    }
   ],
   "source": [
    "model = Sequential()\n",
    "\n",
    "# add model layers\n",
    "model.add(GaussianNoise(0.01, input_shape=(imheight, imwidth, 1)))\n",
    "model.add(Conv2D(8, kernel_size=3, activation='relu', input_shape=(imheight, imwidth, 1)))\n",
    "model.add(Conv2D(4, kernel_size=5, activation='relu'))\n",
    "model.add(Conv2D(2, kernel_size=7, activation='relu'))\n",
    "model.add(Dropout(0.05))\n",
    "model.add(Flatten())\n",
    "model.add(Dense(3, activation='softmax'))\n",
    "model.summary()\n",
    "model.compile(optimizer='adam',\n",
    "              loss='sparse_categorical_crossentropy',\n",
    "              metrics=['accuracy'])"
   ],
   "metadata": {
    "collapsed": false
   }
  },
  {
   "cell_type": "code",
   "execution_count": 185,
   "outputs": [
    {
     "name": "stdout",
     "output_type": "stream",
     "text": [
      "Epoch 1/10\n",
      "58/58 [==============================] - 5s 72ms/step - loss: 2.6814 - accuracy: 0.4528\n",
      "Epoch 2/10\n",
      "58/58 [==============================] - 4s 72ms/step - loss: 0.6790 - accuracy: 0.6933\n",
      "Epoch 3/10\n",
      "58/58 [==============================] - 4s 71ms/step - loss: 0.3737 - accuracy: 0.8555\n",
      "Epoch 4/10\n",
      "58/58 [==============================] - 4s 71ms/step - loss: 0.2032 - accuracy: 0.9299\n",
      "Epoch 5/10\n",
      "58/58 [==============================] - 4s 71ms/step - loss: 0.1129 - accuracy: 0.9660\n",
      "Epoch 6/10\n",
      "58/58 [==============================] - 4s 72ms/step - loss: 0.0630 - accuracy: 0.9871\n",
      "Epoch 7/10\n",
      "58/58 [==============================] - 4s 71ms/step - loss: 0.0320 - accuracy: 0.9951\n",
      "Epoch 8/10\n",
      "58/58 [==============================] - 4s 71ms/step - loss: 0.0177 - accuracy: 0.9978\n",
      "Epoch 9/10\n",
      "58/58 [==============================] - 4s 71ms/step - loss: 0.0107 - accuracy: 0.9989\n",
      "Epoch 10/10\n",
      "58/58 [==============================] - 4s 71ms/step - loss: 0.0068 - accuracy: 0.9995\n"
     ]
    }
   ],
   "source": [
    "n_epochs = 10\n",
    "history = model.fit(x=X_train,y=Y_train, epochs=n_epochs)"
   ],
   "metadata": {
    "collapsed": false
   }
  },
  {
   "cell_type": "code",
   "execution_count": 186,
   "outputs": [
    {
     "name": "stdout",
     "output_type": "stream",
     "text": [
      "7/7 [==============================] - 0s 18ms/step - loss: 0.0931 - accuracy: 0.9680\n",
      "Test accuracy: 0.9680365324020386\n"
     ]
    }
   ],
   "source": [
    "score = model.evaluate(X_test, Y_test)\n",
    "print('Test accuracy:', score[1])"
   ],
   "metadata": {
    "collapsed": false
   }
  },
  {
   "cell_type": "code",
   "execution_count": 191,
   "outputs": [
    {
     "data": {
      "text/plain": "<Figure size 640x480 with 2 Axes>",
      "image/png": "[encoded data removed]"
     },
     "metadata": {},
     "output_type": "display_data"
    }
   ],
   "source": [
    "fig, ax = plt.subplots()\n",
    "ax2 = ax.twinx()\n",
    "ax.plot(history.history['loss'], color='r')\n",
    "ax2.plot(history.history['accuracy'], color='b')\n",
    "ax.set_ylabel('Loss')\n",
    "ax2.set_ylabel('Accuracy')\n",
    "ax.title.set_text('Training Metrics')\n",
    "ax.set_xlabel(\"Epochs\")\n",
    "# ax.legend(['accuracy', 'loss'], loc='upper right')\n",
    "plt.show()"
   ],
   "metadata": {
    "collapsed": false
   }
  },
  {
   "cell_type": "code",
   "execution_count": 152,
   "outputs": [
    {
     "name": "stderr",
     "output_type": "stream",
     "text": [
      "WARNING:absl:Found untraced functions such as _jit_compiled_convolution_op, _jit_compiled_convolution_op, _jit_compiled_convolution_op, _update_step_xla while saving (showing 4 of 4). These functions will not be directly callable after loading.\n"
     ]
    },
    {
     "name": "stdout",
     "output_type": "stream",
     "text": [
      "INFO:tensorflow:Assets written to: CNN_model\\assets\n"
     ]
    },
    {
     "name": "stderr",
     "output_type": "stream",
     "text": [
      "INFO:tensorflow:Assets written to: CNN_model\\assets\n"
     ]
    }
   ],
   "source": [
    "model.save(\"CNN_model\")"
   ],
   "metadata": {
    "collapsed": false
   }
  },
  {
   "cell_type": "code",
   "execution_count": 153,
   "outputs": [
    {
     "name": "stdout",
     "output_type": "stream",
     "text": [
      "7/7 [==============================] - 0s 18ms/step - loss: 0.0213 - accuracy: 0.9954\n",
      "Test accuracy: 0.9954338073730469\n"
     ]
    }
   ],
   "source": [
    "saved_model = keras.models.load_model(\"CNN_model\")\n",
    "score = saved_model.evaluate(X_test, Y_test)\n",
    "print('Test accuracy:', score[1])"
   ],
   "metadata": {
    "collapsed": false
   }
  },
  {
   "cell_type": "code",
   "execution_count": 154,
   "outputs": [
    {
     "name": "stdout",
     "output_type": "stream",
     "text": [
      "219\n",
      "[1.         1.         0.98947368]\n",
      "1855\n",
      "[0.99833611 1.         1.        ]\n"
     ]
    }
   ],
   "source": [
    "\n",
    "def calc_Categorical_Accuracy(test, truth):\n",
    "    print(len(truth))\n",
    "    certainty = model.predict(test, verbose=0)\n",
    "    decision = np.argmax(certainty, axis=1)  # find index of max probability\n",
    "\n",
    "    categorical_accuracy = np.zeros(shape=(3,))\n",
    "    for i in range(len(decision)):\n",
    "      if decision[i] == truth[i]:\n",
    "          categorical_accuracy[truth[i]] = categorical_accuracy[truth[i]]+1\n",
    "\n",
    "    for i in range(3):\n",
    "        num_tests = truth.tolist().count(i)\n",
    "        categorical_accuracy[i] = categorical_accuracy[i]/num_tests\n",
    "    return categorical_accuracy\n",
    "\n",
    "acc = calc_Categorical_Accuracy(X_test, Y_test)\n",
    "print(acc)\n",
    "\n",
    "acc = calc_Categorical_Accuracy(X_train, Y_train)\n",
    "print(acc)"
   ],
   "metadata": {
    "collapsed": false
   }
  },
  {
   "cell_type": "code",
   "execution_count": null,
   "outputs": [],
   "source": [],
   "metadata": {
    "collapsed": false
   }
  }
 ],
 "metadata": {
  "kernelspec": {
   "display_name": "Python 3",
   "language": "python",
   "name": "python3"
  },
  "language_info": {
   "codemirror_mode": {
    "name": "ipython",
    "version": 2
   },
   "file_extension": ".py",
   "mimetype": "text/x-python",
   "name": "python",
   "nbconvert_exporter": "python",
   "pygments_lexer": "ipython2",
   "version": "2.7.6"
  }
 },
 "nbformat": 4,
 "nbformat_minor": 0
}
